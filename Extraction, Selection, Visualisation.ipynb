{
 "cells": [
  {
   "cell_type": "markdown",
   "id": "725c37c9",
   "metadata": {},
   "source": [
    "# Feature Extraction with eGeMAPS (openSMILE)"
   ]
  },
  {
   "cell_type": "code",
   "execution_count": null,
   "id": "4f539c65",
   "metadata": {},
   "outputs": [],
   "source": [
    "import sox\n",
    "import opensmile\n",
    "import pandas as pd\n",
    "import moviepy.editor as mp"
   ]
  },
  {
   "cell_type": "markdown",
   "id": "8036a921",
   "metadata": {},
   "source": [
    "### Extract audio from video recordings"
   ]
  },
  {
   "cell_type": "code",
   "execution_count": null,
   "id": "163a9291",
   "metadata": {},
   "outputs": [],
   "source": [
    "subject_id = mp.VideoFileClip(r\"file_name.mp4\")\n",
    "subject_id.audio.write_audiofile(r\"file_name_result.mp3\")"
   ]
  },
  {
   "cell_type": "markdown",
   "id": "5f20760e",
   "metadata": {},
   "source": [
    "### Feauture Extraction"
   ]
  },
  {
   "cell_type": "markdown",
   "id": "a49b366d",
   "metadata": {},
   "source": [
    "For more info, go to https://github.com/audeering/opensmile-python"
   ]
  },
  {
   "cell_type": "code",
   "execution_count": null,
   "id": "578d6929",
   "metadata": {},
   "outputs": [],
   "source": [
    "#define a function to extract the acoustic features with eGeMAPS\n",
    "def feature_extraction(files, csv_name=None, features=opensmile.FeatureSet.eGeMAPSv02):\n",
    "    \n",
    "    # Initialize the opensmile enviroment\n",
    "    smile = opensmile.Smile(\n",
    "    feature_set=opensmile.FeatureSet.eGeMAPSv02,\n",
    "    feature_level=opensmile.FeatureLevel.Functionals,\n",
    "    )\n",
    "    \n",
    "    # Initalize empty feature list\n",
    "    data = []\n",
    "    \n",
    "    # For each file, extract features\n",
    "    for file in files:\n",
    "        data.append(smile.process_file(file+'.wav'))\n",
    "        \n",
    "    # Generate a single dataframe for all of the features\n",
    "    df = pd.concat(data)\n",
    "    \n",
    "    # If given an output filename, save the dataframe as a csv\n",
    "    if csv_name is not None:\n",
    "        df.to_csv(csv_name, sep=\"\\t\")\n",
    "        \n",
    "    return df"
   ]
  },
  {
   "cell_type": "code",
   "execution_count": null,
   "id": "4acd5967",
   "metadata": {},
   "outputs": [],
   "source": [
    "# Create a dataframe per group with all the audio files\n",
    "group1_files = [\"subj_01\", \"subj_02\",\n",
    "                \"subj_03\",\"subj_04\", \n",
    "                \"subj_05\", \"subj_06\", \n",
    "                \"subj_07\",\"subj_08\",\n",
    "                \"subj_09\", \"subj_10\",\n",
    "                \"subj_11\", \"subj_12\", \n",
    "                \"subj_13\", \"subj_14\"]\n",
    "group2_files = [\"subj_15\", \"subj_16\", \n",
    "                \"subj_17\",\"subj_18\", \n",
    "                \"subj_19\",\"subj_20\", \n",
    "                \"subj_21\", \"subj_22\",\n",
    "                \"subj_23\", \"subj_24\", \n",
    "                \"subj_25\", \"subj_26\", \n",
    "                \"subj_27\", \"subj_28\"]\n",
    "\n",
    "featureset = opensmile.FeatureSet.eGeMAPSv02"
   ]
  },
  {
   "cell_type": "code",
   "execution_count": null,
   "id": "da2d3d39",
   "metadata": {},
   "outputs": [],
   "source": [
    "# Implement the function 'feature_extraction on both dataframe and save them into csv files\n",
    "df_group1 = feature_extraction(group1_files, \"../files/ASDchildren.tsv\", features=featureset)\n",
    "df_group2 = feature_extraction(group2_files, \"../Audio_analisi/TDchildren.tsv\", features=featureset)"
   ]
  },
  {
   "cell_type": "markdown",
   "id": "a83a39a5",
   "metadata": {},
   "source": [
    "# Selection"
   ]
  },
  {
   "cell_type": "markdown",
   "id": "8d910a96",
   "metadata": {},
   "source": [
    "### Mann-Whitney U Test"
   ]
  },
  {
   "cell_type": "code",
   "execution_count": null,
   "id": "c1429027",
   "metadata": {},
   "outputs": [],
   "source": [
    "from scipy.stats import mannwhitneyu"
   ]
  },
  {
   "cell_type": "code",
   "execution_count": null,
   "id": "5b30a118",
   "metadata": {},
   "outputs": [],
   "source": [
    "from scipy.stats import mannwhitneyu\n",
    "\n",
    "# Carrying out the Wilcoxon–Mann–Whitney test\n",
    "results = mannwhitneyu(df_ASD, df_TD)\n",
    "results_df = pd.DataFrame(results)\n",
    "results_df.columns = df_ASD.columns\n",
    "results_df = results_df.T\n",
    "\n",
    "#create a new dataframe with the columns \"statistic\" and \"p-value\"\n",
    "results_df.columns = [\"statistic\", \"p-value\"]\n",
    "\n",
    "#convert the dataframe into a csv file\n",
    "results_df.to_csv(\"../Audio_analysis/wilkoxon-mann-whitney.xlsx\", sep=\"\\t\") "
   ]
  },
  {
   "cell_type": "markdown",
   "id": "7ac86b53",
   "metadata": {},
   "source": [
    "# Visualisation"
   ]
  },
  {
   "cell_type": "code",
   "execution_count": null,
   "id": "9d4abef9",
   "metadata": {},
   "outputs": [],
   "source": [
    "import matplotlib as mpl\n",
    "import matplotlib.pyplot as plt\n",
    "import seaborn as sns"
   ]
  },
  {
   "cell_type": "code",
   "execution_count": null,
   "id": "3cb491b4",
   "metadata": {},
   "outputs": [],
   "source": [
    "#create a new dataframe with only the selected features for each group. \n",
    "#Here, we reported the features selected during our study as example.\n",
    "df_ASD_sel = df_ASD [['spectralFluxUV_sma3nz_amean', \n",
    "                      'shimmerLocaldB_sma3nz_stddevNorm',\n",
    "                      'HNRdBACF_sma3nz_amean',\n",
    "                      'shimmerLocaldB_sma3nz_amean', \n",
    "                      'HNRdBACF_sma3nz_stddevNorm','\n",
    "                      'slopeUV500-1500_sma3nz_amean',\n",
    "                      'F2frequency_sma3nz_stddevNorm',\n",
    "                      'loudness_sma3_percentile20.0',\n",
    "                      'jitterLocal_sma3nz_amean',\n",
    "                      'jitterLocal_sma3nz_stddevNorm',\n",
    "                      'F2bandwidth_sma3nz_stddevNorm',\n",
    "                      'spectralFluxV_sma3nz_amean',\n",
    "                      'spectralFlux_sma3_amean',\n",
    "                      'F0semitoneFrom27.5Hz_sma3nz_stddevFallingSlope',\n",
    "                      'loudness_sma3_stddevRisingSlope', \n",
    "                      'slopeUV0-500_sma3nz_amean',\n",
    "                      'loudness_sma3_amean'\n",
    "                     ]]\n",
    "df_TD_sel = df_TD [['spectralFluxUV_sma3nz_amean', \n",
    "                    'shimmerLocaldB_sma3nz_stddevNorm',\n",
    "                    'HNRdBACF_sma3nz_amean',\n",
    "                    'shimmerLocaldB_sma3nz_amean', \n",
    "                    'HNRdBACF_sma3nz_stddevNorm',\n",
    "                    'slopeUV500-1500_sma3nz_amean',\n",
    "                    'F2frequency_sma3nz_stddevNorm',\n",
    "                    'loudness_sma3_percentile20.0',\n",
    "                    'jitterLocal_sma3nz_amean',\n",
    "                    'jitterLocal_sma3nz_stddevNorm',\n",
    "                    'F2bandwidth_sma3nz_stddevNorm',\n",
    "                    'spectralFluxV_sma3nz_amean',\n",
    "                    'spectralFlux_sma3_amean',\n",
    "                    'F0semitoneFrom27.5Hz_sma3nz_stddevFallingSlope',\n",
    "                    'loudness_sma3_stddevRisingSlope', \n",
    "                    'slopeUV0-500_sma3nz_amean',\n",
    "                    'loudness_sma3_amean'\n",
    "                   ]]"
   ]
  },
  {
   "cell_type": "code",
   "execution_count": null,
   "id": "0cb272b0",
   "metadata": {},
   "outputs": [],
   "source": [
    "#calculate and print mean and standard deviation between the two groups\n",
    "#e.g., 'F0semitoneFrom27.5Hz_sma3nz_stddevFallingSlope'\n",
    "print('ASD mean', df_ASD_sel['F0semitoneFrom27.5Hz_sma3nz_stddevFallingSlope'].mean())\n",
    "print('ASD sd', df_ASD_sel['F0semitoneFrom27.5Hz_sma3nz_stddevFallingSlope'].std())\n",
    "print('TD mean', df_TD_sel['F0semitoneFrom27.5Hz_sma3nz_stddevFallingSlope'].mean())\n",
    "print('TD sd', df_TD_sel['F0semitoneFrom27.5Hz_sma3nz_stddevFallingSlope'].std())"
   ]
  },
  {
   "cell_type": "code",
   "execution_count": null,
   "id": "c570160f",
   "metadata": {},
   "outputs": [],
   "source": [
    "#plot the data distribution for each selected feature by creating two boxplot\n",
    "#e.g., 'F0semitoneFrom27.5Hz_sma3nz_stddevFallingSlope'\n",
    "\n",
    "#create two dataframe selecting the column of the feature \n",
    "cf_ASD_pitch = df_ASD[['F0semitoneFrom27.5Hz_sma3nz_stddevFallingSlope']].assign(Subjects='ASD')\n",
    "cf_TD_pitch = df_TD[['F0semitoneFrom27.5Hz_sma3nz_stddevFallingSlope']].assign(Subjects='TD')\n",
    "\n",
    "#concatenate the two dataframe\n",
    "cdf_cf_pitch = pd.concat([cf_ASD_pitch, cf_TD_pitch])\n",
    "\n",
    "#rename columns\n",
    "newcols_cf_pitch = {'F0semitoneFrom27.5Hz_sma3nz_stddevFallingSlope': \n",
    "                    'Pitch falling slope (sd)'}\n",
    "\n",
    "cdf_cf_pitch= cdf_cf_pitch.rename(columns=newcols_cf_pitch)\n",
    "\n",
    "#create a new dataframe for the boxplot\n",
    "mdf_pitch = pd.melt(cdf_cf_pitch, id_vars=['Subjects'], \n",
    "                    var_name=['Acoustic feature'])\n",
    "mdf_pitch.columns = ['Subjects', 'Acoustic feature', 'Measure feature']\n",
    "\n",
    "import seaborn as sns\n",
    "boxplot_cf_pitch = sns.boxplot(x=\"Acoustic feature\", y=\"Measure feature\", \n",
    "                               hue=\"Subjects\", data=mdf_pitch, linewidth=2.0)    \n",
    "#save the boxplot  \n",
    "plt.savefig('Pitch falling slope (sd).png')  "
   ]
  },
  {
   "cell_type": "markdown",
   "id": "b1a6243a",
   "metadata": {},
   "source": [
    "### Outliers Visualisation"
   ]
  },
  {
   "cell_type": "code",
   "execution_count": null,
   "id": "c73e08e5",
   "metadata": {},
   "outputs": [],
   "source": [
    "#select the columns of the outliers from the two dataframe\n",
    "df_ASD_outliers = df_ASD[['F0semitoneFrom27.5Hz_sma3nz_stddevFallingSlope', \n",
    "                          'jitterLocal_sma3nz_stddevNorm', \n",
    "                          'F2frequency_sma3nz_stddevNorm', \n",
    "                          'F2bandwidth_sma3nz_stddevNorm',\n",
    "                          'shimmerLocaldB_sma3nz_stddevNorm', \n",
    "                          'slopeUV500-1500_sma3nz_amean'\n",
    "                         ]]\n",
    "\n",
    "df_TD_outliers = df_TD[['F0semitoneFrom27.5Hz_sma3nz_stddevFallingSlope', \n",
    "                        'jitterLocal_sma3nz_stddevNorm', \n",
    "                        'F2frequency_sma3nz_stddevNorm', \n",
    "                        'F2bandwidth_sma3nz_stddevNorm',\n",
    "                        'shimmerLocaldB_sma3nz_stddevNorm',\n",
    "                        'slopeUV500-1500_sma3nz_amean'\n",
    "                       ]]\n",
    "\n",
    "#create a new dataframe of the outliers by concatenate the previous one\n",
    "df_outliers = pd.concat([df_ASD_outliers,df_TD_outliers],axis=0)\n",
    "\n",
    "#rename each column for the visualisation \n",
    "#(e.g., 'F0semitoneFrom27.5Hz_sma3nz_stddevFallingSlope' into \n",
    "#'Pitch falling slope (sd)')\n",
    "\n",
    "newcols_outliers = {'F0semitoneFrom27.5Hz_sma3nz_stddevFallingSlope': \n",
    "                    'Pitch falling slope (sd)'}\n",
    "df_outliers=df_outliers.rename(columns=newcols_outliers)"
   ]
  },
  {
   "cell_type": "code",
   "execution_count": null,
   "id": "66573e07",
   "metadata": {},
   "outputs": [],
   "source": [
    "#plot the data distribution curve for each outlier\n",
    "#then calculate skew and kurtosis of the distribution, print the values \n",
    "\n",
    "df_outliers_pitch.plot(kind = 'density')\n",
    "print('This distribution has skew', df_outliers_pitch.skew())\n",
    "print('This distribution has kurtosis', df_outliers_pitch.kurt())"
   ]
  }
 ],
 "metadata": {
  "kernelspec": {
   "display_name": "Python 3",
   "language": "python",
   "name": "python3"
  },
  "language_info": {
   "codemirror_mode": {
    "name": "ipython",
    "version": 3
   },
   "file_extension": ".py",
   "mimetype": "text/x-python",
   "name": "python",
   "nbconvert_exporter": "python",
   "pygments_lexer": "ipython3",
   "version": "3.8.8"
  }
 },
 "nbformat": 4,
 "nbformat_minor": 5
}
